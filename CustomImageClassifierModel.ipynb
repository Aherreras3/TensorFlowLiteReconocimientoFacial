{
  "nbformat": 4,
  "nbformat_minor": 0,
  "metadata": {
    "colab": {
      "name": "CustomImageClassifierModel.ipynb",
      "provenance": []
    },
    "kernelspec": {
      "name": "python3",
      "display_name": "Python 3"
    },
    "language_info": {
      "name": "python"
    },
    "accelerator": "GPU"
  },
  "cells": [
    {
      "cell_type": "code",
      "metadata": {
        "id": "Awq8sMaIFHJ1"
      },
      "source": [
        "# Install Model maker\n",
        "!pip install -q tflite-model-maker &> /dev/null"
      ],
      "execution_count": 1,
      "outputs": []
    },
    {
      "cell_type": "code",
      "source": [
        "from google.colab import drive\n",
        "drive.mount('/content/drive')"
      ],
      "metadata": {
        "colab": {
          "base_uri": "https://localhost:8080/"
        },
        "id": "Z_x8vCIwarjg",
        "outputId": "4d6d6de5-a378-4591-848c-4f932d522d1c"
      },
      "execution_count": 2,
      "outputs": [
        {
          "output_type": "stream",
          "name": "stdout",
          "text": [
            "Mounted at /content/drive\n"
          ]
        }
      ]
    },
    {
      "cell_type": "code",
      "metadata": {
        "id": "2fEAqoLLF6O9",
        "colab": {
          "base_uri": "https://localhost:8080/"
        },
        "outputId": "3b80a348-9de1-407c-fe6d-1a4d8a7b6144"
      },
      "source": [
        "# Imports and check that we are using TF2.x\n",
        "import numpy as np\n",
        "import os\n",
        "\n",
        "from tflite_model_maker import configs\n",
        "from tflite_model_maker import ExportFormat\n",
        "from tflite_model_maker import model_spec\n",
        "from tflite_model_maker import image_classifier\n",
        "from tflite_model_maker.image_classifier import DataLoader\n",
        "\n",
        "import tensorflow as tf\n",
        "assert tf.__version__.startswith('2')\n",
        "tf.get_logger().setLevel('ERROR')"
      ],
      "execution_count": 3,
      "outputs": [
        {
          "output_type": "stream",
          "name": "stderr",
          "text": [
            "/usr/local/lib/python3.8/dist-packages/tensorflow_addons/utils/ensure_tf_install.py:53: UserWarning: Tensorflow Addons supports using Python ops for all Tensorflow versions above or equal to 2.9.0 and strictly below 2.12.0 (nightly versions are not supported). \n",
            " The versions of TensorFlow you are currently using is 2.8.4 and is not supported. \n",
            "Some things might work, some things might not.\n",
            "If you were to encounter a bug, do not file an issue.\n",
            "If you want to make sure you're using a tested and supported configuration, either change the TensorFlow version or the TensorFlow Addons's version. \n",
            "You can find the compatibility matrix in TensorFlow Addon's readme:\n",
            "https://github.com/tensorflow/addons\n",
            "  warnings.warn(\n"
          ]
        }
      ]
    },
    {
      "cell_type": "code",
      "metadata": {
        "id": "1BnQatXYIcEa",
        "colab": {
          "base_uri": "https://localhost:8080/"
        },
        "outputId": "1c73ff14-adb4-4d37-c4c1-25f5cf1f1e13"
      },
      "source": [
        "data_path = tf.keras.utils.get_file(\n",
        "      '/content/drive/MyDrive/mascotas',\n",
        "      'https://drive.google.com/drive/folders/1Bidf9lnZY1CXxWc5SxnTwlrYSnZiB_Kj?usp=share_link',\n",
        "      untar=True)"
      ],
      "execution_count": 4,
      "outputs": [
        {
          "output_type": "stream",
          "name": "stdout",
          "text": [
            "Downloading data from https://drive.google.com/drive/folders/1Bidf9lnZY1CXxWc5SxnTwlrYSnZiB_Kj?usp=share_link\n",
            " 188416/Unknown - 0s 1us/step"
          ]
        }
      ]
    },
    {
      "cell_type": "code",
      "metadata": {
        "id": "VJjNwiEkIgfh"
      },
      "source": [
        "data = DataLoader.from_folder(data_path)\n",
        "train_data, test_data = data.split(0.9)"
      ],
      "execution_count": 5,
      "outputs": []
    },
    {
      "cell_type": "code",
      "metadata": {
        "id": "XsQSgI-WIkW0",
        "colab": {
          "base_uri": "https://localhost:8080/"
        },
        "outputId": "4a57312e-6764-49c2-c721-1913ce3c9682"
      },
      "source": [
        "model = image_classifier.create(train_data)"
      ],
      "execution_count": 6,
      "outputs": [
        {
          "output_type": "stream",
          "name": "stdout",
          "text": [
            "Model: \"sequential\"\n",
            "_________________________________________________________________\n",
            " Layer (type)                Output Shape              Param #   \n",
            "=================================================================\n",
            " hub_keras_layer_v1v2 (HubKe  (None, 1280)             3413024   \n",
            " rasLayerV1V2)                                                   \n",
            "                                                                 \n",
            " dropout (Dropout)           (None, 1280)              0         \n",
            "                                                                 \n",
            " dense (Dense)               (None, 10)                12810     \n",
            "                                                                 \n",
            "=================================================================\n",
            "Total params: 3,425,834\n",
            "Trainable params: 12,810\n",
            "Non-trainable params: 3,413,024\n",
            "_________________________________________________________________\n",
            "None\n",
            "Epoch 1/5\n",
            "5/5 [==============================] - 37s 7s/step - loss: 2.4894 - accuracy: 0.0688\n",
            "Epoch 2/5\n",
            "5/5 [==============================] - 29s 5s/step - loss: 1.8389 - accuracy: 0.5125\n",
            "Epoch 3/5\n",
            "5/5 [==============================] - 25s 5s/step - loss: 1.2052 - accuracy: 0.7812\n",
            "Epoch 4/5\n",
            "5/5 [==============================] - 27s 5s/step - loss: 0.8321 - accuracy: 0.9500\n",
            "Epoch 5/5\n",
            "5/5 [==============================] - 25s 5s/step - loss: 0.6413 - accuracy: 0.9937\n"
          ]
        }
      ]
    },
    {
      "cell_type": "code",
      "metadata": {
        "id": "v5RXPXiiIoC8",
        "colab": {
          "base_uri": "https://localhost:8080/"
        },
        "outputId": "0d8a1807-f0a2-48a7-82f0-eefc88ec02df"
      },
      "source": [
        "loss, accuracy = model.evaluate(test_data)"
      ],
      "execution_count": 7,
      "outputs": [
        {
          "output_type": "stream",
          "name": "stdout",
          "text": [
            "1/1 [==============================] - 11s 11s/step - loss: 0.7279 - accuracy: 0.9474\n"
          ]
        }
      ]
    },
    {
      "cell_type": "code",
      "metadata": {
        "id": "M1BH-Im2IqaG",
        "colab": {
          "base_uri": "https://localhost:8080/"
        },
        "outputId": "4b3a15f0-403a-4c74-aa34-c46b093f0be6"
      },
      "source": [
        "model.export(export_dir='/mm_flowers')"
      ],
      "execution_count": 9,
      "outputs": [
        {
          "output_type": "stream",
          "name": "stderr",
          "text": [
            "/usr/local/lib/python3.8/dist-packages/tensorflow/lite/python/convert.py:746: UserWarning: Statistics for quantized inputs were expected, but not specified; continuing anyway.\n",
            "  warnings.warn(\"Statistics for quantized inputs were expected, but not \"\n"
          ]
        }
      ]
    }
  ]
}